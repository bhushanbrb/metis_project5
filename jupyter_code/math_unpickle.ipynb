{
 "cells": [
  {
   "cell_type": "markdown",
   "metadata": {
    "heading_collapsed": true
   },
   "source": [
    "## Libraries"
   ]
  },
  {
   "cell_type": "code",
   "execution_count": 1,
   "metadata": {
    "ExecuteTime": {
     "end_time": "2019-12-02T23:29:10.523581Z",
     "start_time": "2019-12-02T23:29:07.738734Z"
    },
    "hidden": true
   },
   "outputs": [],
   "source": [
    "%matplotlib inline\n",
    "import matplotlib.pyplot as plt\n",
    "\n",
    "import pickle\n",
    "import one_hot\n",
    "import pandas as pd\n",
    "import numpy as np\n",
    "\n",
    "from sklearn.ensemble import RandomForestClassifier\n",
    "from sklearn.model_selection import train_test_split\n",
    "from sklearn.metrics import accuracy_score"
   ]
  },
  {
   "cell_type": "markdown",
   "metadata": {
    "heading_collapsed": true
   },
   "source": [
    "## Data"
   ]
  },
  {
   "cell_type": "code",
   "execution_count": 3,
   "metadata": {
    "ExecuteTime": {
     "end_time": "2019-12-02T23:29:37.442300Z",
     "start_time": "2019-12-02T23:29:28.212459Z"
    },
    "hidden": true
   },
   "outputs": [],
   "source": [
    "unpickle_train = open('/Users/biancaorozco/Desktop/Metis/project5/math/data/outputs/train/train.pickle', 'rb')\n",
    "train_data = pickle.load(unpickle_train)"
   ]
  },
  {
   "cell_type": "code",
   "execution_count": 5,
   "metadata": {
    "ExecuteTime": {
     "end_time": "2019-12-02T23:29:53.313065Z",
     "start_time": "2019-12-02T23:29:53.191164Z"
    },
    "hidden": true
   },
   "outputs": [],
   "source": [
    "unpickle_test = open('/Users/biancaorozco/Desktop/Metis/project5/math/data/outputs/test/test.pickle', 'rb')\n",
    "test_data = pickle.load(unpickle_test)"
   ]
  },
  {
   "cell_type": "markdown",
   "metadata": {
    "heading_collapsed": true,
    "hidden": true
   },
   "source": [
    "### Exploring Data"
   ]
  },
  {
   "cell_type": "code",
   "execution_count": 19,
   "metadata": {
    "ExecuteTime": {
     "end_time": "2019-12-03T00:06:02.860141Z",
     "start_time": "2019-12-03T00:06:02.845150Z"
    },
    "hidden": true
   },
   "outputs": [
    {
     "data": {
      "text/plain": [
       "261723"
      ]
     },
     "execution_count": 19,
     "metadata": {},
     "output_type": "execute_result"
    }
   ],
   "source": [
    "len(train_data)"
   ]
  },
  {
   "cell_type": "code",
   "execution_count": 10,
   "metadata": {
    "ExecuteTime": {
     "end_time": "2019-12-02T23:31:34.714254Z",
     "start_time": "2019-12-02T23:31:34.709525Z"
    },
    "hidden": true
   },
   "outputs": [
    {
     "data": {
      "text/plain": [
       "{'features': array([1, 1, 1, ..., 1, 1, 1], dtype=uint8),\n",
       " 'label': array([0, 0, 0, 0, 0, 0, 0, 0, 0, 0, 0, 0, 0, 0, 0, 0, 0, 0, 0, 0, 0, 0,\n",
       "        0, 0, 0, 1, 0, 0, 0, 0, 0, 0, 0, 0, 0, 0, 0, 0, 0, 0, 0, 0, 0],\n",
       "       dtype=int8)}"
      ]
     },
     "execution_count": 10,
     "metadata": {},
     "output_type": "execute_result"
    }
   ],
   "source": [
    "test_data[1]"
   ]
  },
  {
   "cell_type": "code",
   "execution_count": 11,
   "metadata": {
    "ExecuteTime": {
     "end_time": "2019-12-02T23:31:36.626009Z",
     "start_time": "2019-12-02T23:31:36.438567Z"
    },
    "hidden": true
   },
   "outputs": [
    {
     "data": {
      "text/plain": [
       "<matplotlib.image.AxesImage at 0x125e39f98>"
      ]
     },
     "execution_count": 11,
     "metadata": {},
     "output_type": "execute_result"
    },
    {
     "data": {
      "image/png": "[encoded data removed]",
      "text/plain": [
       "<Figure size 432x288 with 1 Axes>"
      ]
     },
     "metadata": {
      "needs_background": "light"
     },
     "output_type": "display_data"
    }
   ],
   "source": [
    "feature1 = test_data[1]['features']\n",
    "feature1.reshape(50,50)\n",
    "plt.imshow(feature1.reshape(50,50), cmap = 'gray')"
   ]
  },
  {
   "cell_type": "code",
   "execution_count": 12,
   "metadata": {
    "ExecuteTime": {
     "end_time": "2019-12-02T23:31:39.563590Z",
     "start_time": "2019-12-02T23:31:39.550390Z"
    },
    "hidden": true
   },
   "outputs": [
    {
     "data": {
      "text/plain": [
       "'i'"
      ]
     },
     "execution_count": 12,
     "metadata": {},
     "output_type": "execute_result"
    }
   ],
   "source": [
    "classes = open('classes.txt', 'r').read().split()\n",
    "one_hot.decode(test_data[1]['label'], classes)"
   ]
  },
  {
   "cell_type": "markdown",
   "metadata": {
    "ExecuteTime": {
     "end_time": "2019-12-02T23:29:22.304388Z",
     "start_time": "2019-12-02T23:29:07.743Z"
    },
    "heading_collapsed": true
   },
   "source": [
    "## Functions"
   ]
  },
  {
   "cell_type": "markdown",
   "metadata": {
    "heading_collapsed": true,
    "hidden": true
   },
   "source": [
    "### Scraped Functions"
   ]
  },
  {
   "cell_type": "code",
   "execution_count": null,
   "metadata": {
    "ExecuteTime": {
     "end_time": "2019-12-02T23:29:22.305941Z",
     "start_time": "2019-12-02T23:29:07.745Z"
    },
    "hidden": true
   },
   "outputs": [],
   "source": [
    "# def build_df2(data):\n",
    "#     for i,row in enumerate(data):\n",
    "#         if i==0:\n",
    "#             df = pd.DataFrame(row['features']).T\n",
    "#             y = pd.Series(one_hot.decode(row['label'], classes))\n",
    "#         else:\n",
    "#             temp = pd.DataFrame(row['features']).T\n",
    "#             df = pd.concat([df, temp],ignore_index=True)\n",
    "#             y = pd.concat([y,pd.Series(one_hot.decode(row['label'], classes))],ignore_index=True)\n",
    "    \n",
    "#     return df,y"
   ]
  },
  {
   "cell_type": "code",
   "execution_count": null,
   "metadata": {
    "ExecuteTime": {
     "end_time": "2019-12-02T23:29:22.307737Z",
     "start_time": "2019-12-02T23:29:07.747Z"
    },
    "hidden": true
   },
   "outputs": [],
   "source": [
    "#df, y = build_df2(data[:5000])"
   ]
  },
  {
   "cell_type": "markdown",
   "metadata": {
    "heading_collapsed": true,
    "hidden": true
   },
   "source": [
    "### Building DF Function"
   ]
  },
  {
   "cell_type": "code",
   "execution_count": 13,
   "metadata": {
    "ExecuteTime": {
     "end_time": "2019-12-02T23:32:16.494147Z",
     "start_time": "2019-12-02T23:32:16.486767Z"
    },
    "hidden": true
   },
   "outputs": [],
   "source": [
    "def build_df3(data):\n",
    "    df = pd.DataFrame()\n",
    "    y = pd.Series()\n",
    "    classes = open('classes.txt', 'r').read().split()\n",
    "    for i,dictionary in enumerate(data): \n",
    "        temp = pd.DataFrame(dictionary['features']).T\n",
    "        df = df.append(temp,ignore_index=True)\n",
    "        y = y.append(pd.Series(one_hot.decode(dictionary['label'], classes)),ignore_index=True)\n",
    "\n",
    "    return df,y"
   ]
  },
  {
   "cell_type": "markdown",
   "metadata": {
    "heading_collapsed": true
   },
   "source": [
    "## Dictionaries to CSV"
   ]
  },
  {
   "cell_type": "code",
   "execution_count": 24,
   "metadata": {
    "ExecuteTime": {
     "end_time": "2019-12-04T23:56:00.534313Z",
     "start_time": "2019-12-04T20:35:28.758687Z"
    },
    "hidden": true
   },
   "outputs": [],
   "source": [
    "df, y = build_df3(train_data[:50000])"
   ]
  },
  {
   "cell_type": "code",
   "execution_count": 25,
   "metadata": {
    "ExecuteTime": {
     "end_time": "2019-12-05T00:05:47.531183Z",
     "start_time": "2019-12-05T00:03:25.936467Z"
    },
    "hidden": true
   },
   "outputs": [],
   "source": [
    "df_train = df\n",
    "df_train['target'] = y\n",
    "df_train.to_csv('df_train2.csv')"
   ]
  },
  {
   "cell_type": "code",
   "execution_count": null,
   "metadata": {
    "hidden": true
   },
   "outputs": [],
   "source": [
    "df2, y2 = build_df3(test_data)"
   ]
  },
  {
   "cell_type": "code",
   "execution_count": null,
   "metadata": {
    "hidden": true
   },
   "outputs": [],
   "source": [
    "df_test = df2\n",
    "df_test['target'] = y2\n",
    "df_test.to_csv('df_test.csv')"
   ]
  }
 ],
 "metadata": {
  "kernelspec": {
   "display_name": "Python [conda env:metis] *",
   "language": "python",
   "name": "conda-env-metis-py"
  },
  "language_info": {
   "codemirror_mode": {
    "name": "ipython",
    "version": 3
   },
   "file_extension": ".py",
   "mimetype": "text/x-python",
   "name": "python",
   "nbconvert_exporter": "python",
   "pygments_lexer": "ipython3",
   "version": "3.7.3"
  },
  "latex_envs": {
   "LaTeX_envs_menu_present": true,
   "autoclose": false,
   "autocomplete": true,
   "bibliofile": "biblio.bib",
   "cite_by": "apalike",
   "current_citInitial": 1,
   "eqLabelWithNumbers": true,
   "eqNumInitial": 1,
   "hotkeys": {
    "equation": "Ctrl-E",
    "itemize": "Ctrl-I"
   },
   "labels_anchors": false,
   "latex_user_defs": false,
   "report_style_numbering": false,
   "user_envs_cfg": false
  },
  "toc": {
   "base_numbering": 1,
   "nav_menu": {},
   "number_sections": true,
   "sideBar": true,
   "skip_h1_title": false,
   "title_cell": "Table of Contents",
   "title_sidebar": "Contents",
   "toc_cell": false,
   "toc_position": {},
   "toc_section_display": true,
   "toc_window_display": false
  }
 },
 "nbformat": 4,
 "nbformat_minor": 2
}
