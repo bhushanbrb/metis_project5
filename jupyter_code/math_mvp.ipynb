{
 "cells": [
  {
   "cell_type": "markdown",
   "metadata": {
    "ExecuteTime": {
     "end_time": "2019-12-03T00:15:35.604425Z",
     "start_time": "2019-12-03T00:15:35.592343Z"
    },
    "heading_collapsed": true
   },
   "source": [
    "## Libraries"
   ]
  },
  {
   "cell_type": "code",
   "execution_count": 1,
   "metadata": {
    "ExecuteTime": {
     "end_time": "2019-12-02T20:42:59.239254Z",
     "start_time": "2019-12-02T20:42:55.871382Z"
    },
    "hidden": true
   },
   "outputs": [],
   "source": [
    "%matplotlib inline\n",
    "import matplotlib.pyplot as plt\n",
    "import os\n",
    "import pickle\n",
    "import one_hot\n",
    "import pandas as pd\n",
    "import numpy as np\n",
    "\n",
    "from sklearn.ensemble import RandomForestClassifier\n",
    "from sklearn.model_selection import train_test_split\n",
    "from sklearn.metrics import accuracy_score"
   ]
  },
  {
   "cell_type": "markdown",
   "metadata": {
    "heading_collapsed": true
   },
   "source": [
    "## Data"
   ]
  },
  {
   "cell_type": "code",
   "execution_count": 35,
   "metadata": {
    "ExecuteTime": {
     "end_time": "2019-12-02T23:41:14.499419Z",
     "start_time": "2019-12-02T23:41:14.414219Z"
    },
    "hidden": true
   },
   "outputs": [],
   "source": [
    "unpickle_test = open('/Users/biancaorozco/Desktop/Metis/project5/math/data/outputs/test/test.pickle', 'rb')\n",
    "test_data = pickle.load(unpickle_test)"
   ]
  },
  {
   "cell_type": "code",
   "execution_count": 90,
   "metadata": {
    "ExecuteTime": {
     "end_time": "2019-12-03T20:01:15.429376Z",
     "start_time": "2019-12-03T20:00:55.078459Z"
    },
    "hidden": true
   },
   "outputs": [],
   "source": [
    "os.chdir('/Users/biancaorozco/Desktop/Metis/project5/math/data')\n",
    "df_train = pd.read_csv('df_train.csv')\n",
    "df_test = pd.read_csv('df_test.csv')"
   ]
  },
  {
   "cell_type": "markdown",
   "metadata": {
    "heading_collapsed": true,
    "hidden": true
   },
   "source": [
    "### Split Train/Validate Data"
   ]
  },
  {
   "cell_type": "code",
   "execution_count": 30,
   "metadata": {
    "ExecuteTime": {
     "end_time": "2019-12-02T23:38:09.812024Z",
     "start_time": "2019-12-02T23:38:08.753102Z"
    },
    "hidden": true
   },
   "outputs": [],
   "source": [
    "Xtrain, Xval, ytrain, yval = train_test_split(df_train.drop('target', axis=1), df_train['target'], test_size=0.2, random_state = 33)"
   ]
  },
  {
   "cell_type": "markdown",
   "metadata": {
    "heading_collapsed": true
   },
   "source": [
    "## Modeling"
   ]
  },
  {
   "cell_type": "code",
   "execution_count": 68,
   "metadata": {
    "ExecuteTime": {
     "end_time": "2019-12-02T23:52:50.497728Z",
     "start_time": "2019-12-02T23:51:58.844890Z"
    },
    "hidden": true
   },
   "outputs": [
    {
     "name": "stdout",
     "output_type": "stream",
     "text": [
      "Random Forest Accuracy Score:  0.74125\n"
     ]
    }
   ],
   "source": [
    "rf = RandomForestClassifier(n_estimators=500,max_depth = 9)\n",
    "rf.fit(Xtrain, ytrain)\n",
    "ypred_val = rf.predict(Xval)\n",
    "print('Random Forest Accuracy Score: ', accuracy_score(yval, ypred_val))"
   ]
  },
  {
   "cell_type": "code",
   "execution_count": 69,
   "metadata": {
    "ExecuteTime": {
     "end_time": "2019-12-02T23:53:02.415015Z",
     "start_time": "2019-12-02T23:52:58.519120Z"
    },
    "hidden": true
   },
   "outputs": [
    {
     "name": "stdout",
     "output_type": "stream",
     "text": [
      "Predicting on Training Data\n",
      "Checking for Overfitting:  0.844\n"
     ]
    }
   ],
   "source": [
    "# Checking for Overfitting\n",
    "ypred_train = rf.predict(Xtrain)\n",
    "print('Predicting on Training Data\\nChecking for Overfitting: ', accuracy_score(ytrain, ypred_train))"
   ]
  },
  {
   "cell_type": "markdown",
   "metadata": {
    "heading_collapsed": true
   },
   "source": [
    "## Testing"
   ]
  },
  {
   "cell_type": "markdown",
   "metadata": {
    "heading_collapsed": true,
    "hidden": true
   },
   "source": [
    "### Predicting *i*"
   ]
  },
  {
   "cell_type": "code",
   "execution_count": 102,
   "metadata": {
    "ExecuteTime": {
     "end_time": "2019-12-04T02:11:25.028284Z",
     "start_time": "2019-12-04T02:11:24.383791Z"
    },
    "hidden": true
   },
   "outputs": [
    {
     "name": "stdout",
     "output_type": "stream",
     "text": [
      "This is the label for my test image: ** i **\n",
      "This is the drawn image:\n"
     ]
    },
    {
     "data": {
      "image/png": "[encoded data removed]",
      "text/plain": [
       "<Figure size 432x288 with 1 Axes>"
      ]
     },
     "metadata": {
      "needs_background": "light"
     },
     "output_type": "display_data"
    }
   ],
   "source": [
    "classes = open('classes.txt', 'r').read().split()\n",
    "print('This is the label for my test image: **', one_hot.decode(test_data[1]['label'], classes), '**')\n",
    "\n",
    "feature1 = test_data[1]['features']\n",
    "feature1.reshape(50,50)\n",
    "print('This is the drawn image:')\n",
    "plt.imshow(feature1.reshape(50,50), cmap = 'gray');"
   ]
  },
  {
   "cell_type": "code",
   "execution_count": 73,
   "metadata": {
    "ExecuteTime": {
     "end_time": "2019-12-02T23:56:53.363359Z",
     "start_time": "2019-12-02T23:56:53.310096Z"
    },
    "hidden": true
   },
   "outputs": [
    {
     "name": "stdout",
     "output_type": "stream",
     "text": [
      "Random Forest Prediction only using Image:\n",
      " ['i']\n"
     ]
    }
   ],
   "source": [
    "print('Random Forest Prediction only using Image:\\n', rf.predict([feature1]))"
   ]
  },
  {
   "cell_type": "markdown",
   "metadata": {
    "heading_collapsed": true,
    "hidden": true
   },
   "source": [
    "### Predicting *z*"
   ]
  },
  {
   "cell_type": "code",
   "execution_count": 76,
   "metadata": {
    "ExecuteTime": {
     "end_time": "2019-12-03T00:19:17.294558Z",
     "start_time": "2019-12-03T00:19:17.093223Z"
    },
    "hidden": true
   },
   "outputs": [
    {
     "name": "stdout",
     "output_type": "stream",
     "text": [
      "This is the label for my test image: ** z **\n",
      "This is the drawn image:\n"
     ]
    },
    {
     "data": {
      "image/png": "[encoded data removed]",
      "text/plain": [
       "<Figure size 432x288 with 1 Axes>"
      ]
     },
     "metadata": {
      "needs_background": "light"
     },
     "output_type": "display_data"
    }
   ],
   "source": [
    "classes = open('classes.txt', 'r').read().split()\n",
    "print('This is the label for my test image: **', one_hot.decode(test_data[3]['label'], classes), '**')\n",
    "\n",
    "feature3 = test_data[3]['features']\n",
    "feature3.reshape(50,50)\n",
    "print('This is the drawn image:')\n",
    "plt.imshow(feature3.reshape(50,50), cmap = 'gray');"
   ]
  },
  {
   "cell_type": "code",
   "execution_count": 77,
   "metadata": {
    "ExecuteTime": {
     "end_time": "2019-12-03T00:19:34.805066Z",
     "start_time": "2019-12-03T00:19:34.732951Z"
    },
    "hidden": true
   },
   "outputs": [
    {
     "name": "stdout",
     "output_type": "stream",
     "text": [
      "Random Forest Prediction only using Image:\n",
      " ['z']\n"
     ]
    }
   ],
   "source": [
    "print('Random Forest Prediction only using Image:\\n', rf.predict([feature3]))"
   ]
  },
  {
   "cell_type": "markdown",
   "metadata": {
    "heading_collapsed": true,
    "hidden": true
   },
   "source": [
    "### Test Set"
   ]
  },
  {
   "cell_type": "code",
   "execution_count": 98,
   "metadata": {
    "ExecuteTime": {
     "end_time": "2019-12-03T20:04:18.622192Z",
     "start_time": "2019-12-03T20:04:18.460573Z"
    },
    "hidden": true
   },
   "outputs": [
    {
     "name": "stdout",
     "output_type": "stream",
     "text": [
      "['1' 'i' '=' 'z' '2' ')' '(' '1' '6' 'o']\n",
      "0    1\n",
      "1    i\n",
      "2    =\n",
      "3    z\n",
      "4    z\n",
      "5    )\n",
      "6    (\n",
      "7    1\n",
      "8    6\n",
      "9    0\n",
      "Name: target, dtype: object\n"
     ]
    }
   ],
   "source": [
    "Xtest = df_test.drop('target', axis=1)\n",
    "ytest = df_test['target']\n",
    "print(rf.predict(Xtest.head(10)))\n",
    "print(ytest.head(10))"
   ]
  }
 ],
 "metadata": {
  "kernelspec": {
   "display_name": "Python [conda env:metis] *",
   "language": "python",
   "name": "conda-env-metis-py"
  },
  "language_info": {
   "codemirror_mode": {
    "name": "ipython",
    "version": 3
   },
   "file_extension": ".py",
   "mimetype": "text/x-python",
   "name": "python",
   "nbconvert_exporter": "python",
   "pygments_lexer": "ipython3",
   "version": "3.7.3"
  },
  "toc": {
   "base_numbering": 1,
   "nav_menu": {},
   "number_sections": true,
   "sideBar": true,
   "skip_h1_title": false,
   "title_cell": "Table of Contents",
   "title_sidebar": "Contents",
   "toc_cell": false,
   "toc_position": {},
   "toc_section_display": true,
   "toc_window_display": false
  }
 },
 "nbformat": 4,
 "nbformat_minor": 2
}
